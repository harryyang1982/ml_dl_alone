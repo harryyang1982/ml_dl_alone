{
 "cells": [
  {
   "cell_type": "markdown",
   "metadata": {},
   "source": [
    "# 9-1 순차 데이터와 순환 신경망"
   ]
  },
  {
   "cell_type": "markdown",
   "metadata": {},
   "source": [
    "## 순차 데이터"
   ]
  },
  {
   "cell_type": "markdown",
   "metadata": {},
   "source": [
    "## 순환 신경망"
   ]
  },
  {
   "cell_type": "markdown",
   "metadata": {},
   "source": [
    "# 9-2 순환 신경망으로 IMDB 리뷰 분류하기"
   ]
  },
  {
   "cell_type": "code",
   "execution_count": 2,
   "metadata": {},
   "outputs": [
    {
     "name": "stdout",
     "output_type": "stream",
     "text": [
      "Downloading data from https://storage.googleapis.com/tensorflow/tf-keras-datasets/imdb.npz\n",
      "17464789/17464789 [==============================] - 8s 0us/step\n"
     ]
    }
   ],
   "source": [
    "from tensorflow.keras.datasets import imdb\n",
    "(train_input, train_target), (test_input, test_target) = imdb.load_data(num_words=500)\n"
   ]
  },
  {
   "cell_type": "code",
   "execution_count": 3,
   "metadata": {},
   "outputs": [
    {
     "name": "stdout",
     "output_type": "stream",
     "text": [
      "(25000,) (25000,)\n"
     ]
    }
   ],
   "source": [
    "print(train_input.shape, test_input.shape)"
   ]
  },
  {
   "cell_type": "code",
   "execution_count": 4,
   "metadata": {},
   "outputs": [
    {
     "name": "stdout",
     "output_type": "stream",
     "text": [
      "218\n"
     ]
    }
   ],
   "source": [
    "print(len(train_input[0]))"
   ]
  },
  {
   "cell_type": "code",
   "execution_count": 5,
   "metadata": {},
   "outputs": [
    {
     "name": "stdout",
     "output_type": "stream",
     "text": [
      "189\n"
     ]
    }
   ],
   "source": [
    "print(len(train_input[1]))"
   ]
  },
  {
   "cell_type": "code",
   "execution_count": 8,
   "metadata": {},
   "outputs": [
    {
     "name": "stdout",
     "output_type": "stream",
     "text": [
      "[1, 14, 22, 16, 43, 2, 2, 2, 2, 65, 458, 2, 66, 2, 4, 173, 36, 256, 5, 25, 100, 43, 2, 112, 50, 2, 2, 9, 35, 480, 284, 5, 150, 4, 172, 112, 167, 2, 336, 385, 39, 4, 172, 2, 2, 17, 2, 38, 13, 447, 4, 192, 50, 16, 6, 147, 2, 19, 14, 22, 4, 2, 2, 469, 4, 22, 71, 87, 12, 16, 43, 2, 38, 76, 15, 13, 2, 4, 22, 17, 2, 17, 12, 16, 2, 18, 2, 5, 62, 386, 12, 8, 316, 8, 106, 5, 4, 2, 2, 16, 480, 66, 2, 33, 4, 130, 12, 16, 38, 2, 5, 25, 124, 51, 36, 135, 48, 25, 2, 33, 6, 22, 12, 215, 28, 77, 52, 5, 14, 407, 16, 82, 2, 8, 4, 107, 117, 2, 15, 256, 4, 2, 7, 2, 5, 2, 36, 71, 43, 2, 476, 26, 400, 317, 46, 7, 4, 2, 2, 13, 104, 88, 4, 381, 15, 297, 98, 32, 2, 56, 26, 141, 6, 194, 2, 18, 4, 226, 22, 21, 134, 476, 26, 480, 5, 144, 30, 2, 18, 51, 36, 28, 224, 92, 25, 104, 4, 226, 65, 16, 38, 2, 88, 12, 16, 283, 5, 16, 2, 113, 103, 32, 15, 16, 2, 19, 178, 32]\n"
     ]
    }
   ],
   "source": [
    "print(train_input[0])"
   ]
  },
  {
   "cell_type": "code",
   "execution_count": 9,
   "metadata": {},
   "outputs": [
    {
     "name": "stdout",
     "output_type": "stream",
     "text": [
      "[1 0 0 1 0 0 1 0 1 0 1 0 0 0 0 0 1 1 0 1]\n"
     ]
    }
   ],
   "source": [
    "print(train_target[:20])"
   ]
  },
  {
   "cell_type": "code",
   "execution_count": 10,
   "metadata": {},
   "outputs": [],
   "source": [
    "from sklearn.model_selection import train_test_split\n",
    "train_input, val_input, train_target, val_target = train_test_split(\n",
    "    train_input, train_target, test_size=0.2, random_state=42\n",
    ")"
   ]
  },
  {
   "cell_type": "code",
   "execution_count": 11,
   "metadata": {},
   "outputs": [],
   "source": [
    "import numpy as np\n",
    "lengths = np.array([len(x) for x in train_input])"
   ]
  },
  {
   "cell_type": "code",
   "execution_count": 12,
   "metadata": {},
   "outputs": [
    {
     "name": "stdout",
     "output_type": "stream",
     "text": [
      "239.00925 178.0\n"
     ]
    }
   ],
   "source": [
    "print(np.mean(lengths), np.median(lengths))"
   ]
  },
  {
   "cell_type": "code",
   "execution_count": 13,
   "metadata": {},
   "outputs": [
    {
     "data": {
      "image/png": "[encoded data removed]",
      "text/plain": [
       "<Figure size 432x288 with 1 Axes>"
      ]
     },
     "metadata": {
      "needs_background": "light"
     },
     "output_type": "display_data"
    }
   ],
   "source": [
    "import matplotlib.pyplot as plt\n",
    "plt.hist(lengths)\n",
    "plt.xlabel('lengths')\n",
    "plt.ylabel('frequency')\n",
    "plt.show()"
   ]
  },
  {
   "cell_type": "code",
   "execution_count": 16,
   "metadata": {},
   "outputs": [],
   "source": [
    "from tensorflow.keras.preprocessing.sequence import pad_sequences\n",
    "train_seq = pad_sequences(train_input, maxlen=100)"
   ]
  },
  {
   "cell_type": "code",
   "execution_count": 17,
   "metadata": {},
   "outputs": [
    {
     "name": "stdout",
     "output_type": "stream",
     "text": [
      "(20000, 100)\n"
     ]
    }
   ],
   "source": [
    "print(train_seq.shape)"
   ]
  },
  {
   "cell_type": "code",
   "execution_count": 18,
   "metadata": {},
   "outputs": [
    {
     "name": "stdout",
     "output_type": "stream",
     "text": [
      "[ 10   4  20   9   2 364 352   5  45   6   2   2  33 269   8   2 142   2\n",
      "   5   2  17  73  17 204   5   2  19  55   2   2  92  66 104  14  20  93\n",
      "  76   2 151  33   4  58  12 188   2 151  12 215  69 224 142  73 237   6\n",
      "   2   7   2   2 188   2 103  14  31  10  10 451   7   2   5   2  80  91\n",
      "   2  30   2  34  14  20 151  50  26 131  49   2  84  46  50  37  80  79\n",
      "   6   2  46   7  14  20  10  10 470 158]\n"
     ]
    }
   ],
   "source": [
    "print(train_seq[0])"
   ]
  },
  {
   "cell_type": "code",
   "execution_count": 19,
   "metadata": {},
   "outputs": [
    {
     "name": "stdout",
     "output_type": "stream",
     "text": [
      "[6, 2, 46, 7, 14, 20, 10, 10, 470, 158]\n"
     ]
    }
   ],
   "source": [
    "print(train_input[0][-10:])"
   ]
  },
  {
   "cell_type": "code",
   "execution_count": 20,
   "metadata": {},
   "outputs": [
    {
     "name": "stdout",
     "output_type": "stream",
     "text": [
      "[  0   0   0   0   1   2 195  19  49   2   2 190   4   2 352   2 183  10\n",
      "  10  13  82  79   4   2  36  71 269   8   2  25  19  49   7   4   2   2\n",
      "   2   2   2  10  10  48  25  40   2  11   2   2  40   2   2   5   4   2\n",
      "   2  95  14 238  56 129   2  10  10  21   2  94 364 352   2   2  11 190\n",
      "  24 484   2   7  94 205 405  10  10  87   2  34  49   2   7   2   2   2\n",
      "   2   2 290   2  46  48  64  18   4   2]\n"
     ]
    }
   ],
   "source": [
    "print(train_seq[5])"
   ]
  },
  {
   "cell_type": "code",
   "execution_count": 21,
   "metadata": {},
   "outputs": [],
   "source": [
    "val_seq = pad_sequences(val_input, maxlen=100)"
   ]
  },
  {
   "cell_type": "markdown",
   "metadata": {},
   "source": [
    "## 순환 신경망 만들기"
   ]
  },
  {
   "cell_type": "code",
   "execution_count": 22,
   "metadata": {},
   "outputs": [
    {
     "name": "stderr",
     "output_type": "stream",
     "text": [
      "2022-06-05 13:55:19.669847: I tensorflow/core/platform/cpu_feature_guard.cc:193] This TensorFlow binary is optimized with oneAPI Deep Neural Network Library (oneDNN) to use the following CPU instructions in performance-critical operations:  AVX2 FMA\n",
      "To enable them in other operations, rebuild TensorFlow with the appropriate compiler flags.\n"
     ]
    }
   ],
   "source": [
    "from tensorflow import keras\n",
    "model = keras.Sequential()\n",
    "model.add(keras.layers.SimpleRNN(8, input_shape=(100, 500)))\n",
    "model.add(keras.layers.Dense(1, activation='sigmoid'))"
   ]
  },
  {
   "cell_type": "code",
   "execution_count": 23,
   "metadata": {},
   "outputs": [],
   "source": [
    "train_oh = keras.utils.to_categorical(train_seq)"
   ]
  },
  {
   "cell_type": "code",
   "execution_count": 24,
   "metadata": {},
   "outputs": [
    {
     "name": "stdout",
     "output_type": "stream",
     "text": [
      "(20000, 100, 500)\n"
     ]
    }
   ],
   "source": [
    "print(train_oh.shape)"
   ]
  },
  {
   "cell_type": "code",
   "execution_count": 25,
   "metadata": {},
   "outputs": [
    {
     "name": "stdout",
     "output_type": "stream",
     "text": [
      "[0. 0. 0. 0. 0. 0. 0. 0. 0. 0. 1. 0.]\n"
     ]
    }
   ],
   "source": [
    "print(train_oh[0][0][:12])"
   ]
  },
  {
   "cell_type": "code",
   "execution_count": 26,
   "metadata": {},
   "outputs": [
    {
     "name": "stdout",
     "output_type": "stream",
     "text": [
      "1.0\n"
     ]
    }
   ],
   "source": [
    "print(np.sum(train_oh[0][0]))"
   ]
  },
  {
   "cell_type": "code",
   "execution_count": 27,
   "metadata": {},
   "outputs": [],
   "source": [
    "val_oh = keras.utils.to_categorical(val_seq)"
   ]
  },
  {
   "cell_type": "code",
   "execution_count": 28,
   "metadata": {},
   "outputs": [
    {
     "name": "stdout",
     "output_type": "stream",
     "text": [
      "Model: \"sequential\"\n",
      "_________________________________________________________________\n",
      " Layer (type)                Output Shape              Param #   \n",
      "=================================================================\n",
      " simple_rnn (SimpleRNN)      (None, 8)                 4072      \n",
      "                                                                 \n",
      " dense (Dense)               (None, 1)                 9         \n",
      "                                                                 \n",
      "=================================================================\n",
      "Total params: 4,081\n",
      "Trainable params: 4,081\n",
      "Non-trainable params: 0\n",
      "_________________________________________________________________\n"
     ]
    }
   ],
   "source": [
    "model.summary()"
   ]
  },
  {
   "cell_type": "markdown",
   "metadata": {},
   "source": [
    "## 순환 신경망 훈련하기"
   ]
  },
  {
   "cell_type": "code",
   "execution_count": 29,
   "metadata": {},
   "outputs": [
    {
     "name": "stdout",
     "output_type": "stream",
     "text": [
      "Epoch 1/100\n",
      "313/313 [==============================] - 7s 20ms/step - loss: 0.6977 - accuracy: 0.5054 - val_loss: 0.6952 - val_accuracy: 0.5102\n",
      "Epoch 2/100\n",
      "313/313 [==============================] - 7s 21ms/step - loss: 0.6936 - accuracy: 0.5142 - val_loss: 0.6928 - val_accuracy: 0.5202\n",
      "Epoch 3/100\n",
      "313/313 [==============================] - 7s 22ms/step - loss: 0.6913 - accuracy: 0.5267 - val_loss: 0.6914 - val_accuracy: 0.5274\n",
      "Epoch 4/100\n",
      "313/313 [==============================] - 7s 22ms/step - loss: 0.6893 - accuracy: 0.5358 - val_loss: 0.6899 - val_accuracy: 0.5328\n",
      "Epoch 5/100\n",
      "313/313 [==============================] - 6s 20ms/step - loss: 0.6874 - accuracy: 0.5446 - val_loss: 0.6884 - val_accuracy: 0.5406\n",
      "Epoch 6/100\n",
      "313/313 [==============================] - 7s 22ms/step - loss: 0.6854 - accuracy: 0.5551 - val_loss: 0.6869 - val_accuracy: 0.5476\n",
      "Epoch 7/100\n",
      "313/313 [==============================] - 6s 20ms/step - loss: 0.6829 - accuracy: 0.5638 - val_loss: 0.6845 - val_accuracy: 0.5568\n",
      "Epoch 8/100\n",
      "313/313 [==============================] - 6s 19ms/step - loss: 0.6761 - accuracy: 0.5900 - val_loss: 0.6742 - val_accuracy: 0.5938\n",
      "Epoch 9/100\n",
      "313/313 [==============================] - 6s 19ms/step - loss: 0.6639 - accuracy: 0.6178 - val_loss: 0.6637 - val_accuracy: 0.6188\n",
      "Epoch 10/100\n",
      "313/313 [==============================] - 6s 19ms/step - loss: 0.6515 - accuracy: 0.6441 - val_loss: 0.6520 - val_accuracy: 0.6466\n",
      "Epoch 11/100\n",
      "313/313 [==============================] - 6s 19ms/step - loss: 0.6378 - accuracy: 0.6626 - val_loss: 0.6378 - val_accuracy: 0.6686\n",
      "Epoch 12/100\n",
      "313/313 [==============================] - 6s 20ms/step - loss: 0.6220 - accuracy: 0.6828 - val_loss: 0.6222 - val_accuracy: 0.6840\n",
      "Epoch 13/100\n",
      "313/313 [==============================] - 6s 20ms/step - loss: 0.6026 - accuracy: 0.7025 - val_loss: 0.6048 - val_accuracy: 0.7014\n",
      "Epoch 14/100\n",
      "313/313 [==============================] - 7s 21ms/step - loss: 0.5873 - accuracy: 0.7141 - val_loss: 0.5902 - val_accuracy: 0.7152\n",
      "Epoch 15/100\n",
      "313/313 [==============================] - 6s 20ms/step - loss: 0.5720 - accuracy: 0.7286 - val_loss: 0.5802 - val_accuracy: 0.7184\n",
      "Epoch 16/100\n",
      "313/313 [==============================] - 7s 22ms/step - loss: 0.5583 - accuracy: 0.7368 - val_loss: 0.5653 - val_accuracy: 0.7338\n",
      "Epoch 17/100\n",
      "313/313 [==============================] - 7s 21ms/step - loss: 0.5464 - accuracy: 0.7436 - val_loss: 0.5547 - val_accuracy: 0.7360\n",
      "Epoch 18/100\n",
      "313/313 [==============================] - 6s 21ms/step - loss: 0.5342 - accuracy: 0.7538 - val_loss: 0.5475 - val_accuracy: 0.7394\n",
      "Epoch 19/100\n",
      "313/313 [==============================] - 7s 22ms/step - loss: 0.5234 - accuracy: 0.7613 - val_loss: 0.5375 - val_accuracy: 0.7468\n",
      "Epoch 20/100\n",
      "313/313 [==============================] - 6s 21ms/step - loss: 0.5145 - accuracy: 0.7655 - val_loss: 0.5285 - val_accuracy: 0.7548\n",
      "Epoch 21/100\n",
      "313/313 [==============================] - 6s 20ms/step - loss: 0.5058 - accuracy: 0.7716 - val_loss: 0.5232 - val_accuracy: 0.7550\n",
      "Epoch 22/100\n",
      "313/313 [==============================] - 6s 20ms/step - loss: 0.4985 - accuracy: 0.7740 - val_loss: 0.5176 - val_accuracy: 0.7542\n",
      "Epoch 23/100\n",
      "313/313 [==============================] - 6s 20ms/step - loss: 0.4910 - accuracy: 0.7802 - val_loss: 0.5115 - val_accuracy: 0.7632\n",
      "Epoch 24/100\n",
      "313/313 [==============================] - 6s 20ms/step - loss: 0.4855 - accuracy: 0.7807 - val_loss: 0.5071 - val_accuracy: 0.7596\n",
      "Epoch 25/100\n",
      "313/313 [==============================] - 6s 21ms/step - loss: 0.4790 - accuracy: 0.7850 - val_loss: 0.5033 - val_accuracy: 0.7630\n",
      "Epoch 26/100\n",
      "313/313 [==============================] - 6s 20ms/step - loss: 0.4732 - accuracy: 0.7901 - val_loss: 0.5017 - val_accuracy: 0.7638\n",
      "Epoch 27/100\n",
      "313/313 [==============================] - 6s 19ms/step - loss: 0.4686 - accuracy: 0.7918 - val_loss: 0.4937 - val_accuracy: 0.7680\n",
      "Epoch 28/100\n",
      "313/313 [==============================] - 6s 20ms/step - loss: 0.4635 - accuracy: 0.7948 - val_loss: 0.4905 - val_accuracy: 0.7698\n",
      "Epoch 29/100\n",
      "313/313 [==============================] - 6s 21ms/step - loss: 0.4593 - accuracy: 0.7967 - val_loss: 0.4859 - val_accuracy: 0.7730\n",
      "Epoch 30/100\n",
      "313/313 [==============================] - 6s 21ms/step - loss: 0.4547 - accuracy: 0.7997 - val_loss: 0.4820 - val_accuracy: 0.7760\n",
      "Epoch 31/100\n",
      "313/313 [==============================] - 6s 20ms/step - loss: 0.4510 - accuracy: 0.8013 - val_loss: 0.4818 - val_accuracy: 0.7748\n",
      "Epoch 32/100\n",
      "313/313 [==============================] - 6s 21ms/step - loss: 0.4472 - accuracy: 0.8026 - val_loss: 0.4789 - val_accuracy: 0.7766\n",
      "Epoch 33/100\n",
      "313/313 [==============================] - 6s 21ms/step - loss: 0.4435 - accuracy: 0.8048 - val_loss: 0.4762 - val_accuracy: 0.7768\n",
      "Epoch 34/100\n",
      "313/313 [==============================] - 6s 20ms/step - loss: 0.4405 - accuracy: 0.8054 - val_loss: 0.4726 - val_accuracy: 0.7800\n",
      "Epoch 35/100\n",
      "313/313 [==============================] - 6s 20ms/step - loss: 0.4371 - accuracy: 0.8065 - val_loss: 0.4719 - val_accuracy: 0.7794\n",
      "Epoch 36/100\n",
      "313/313 [==============================] - 6s 20ms/step - loss: 0.4339 - accuracy: 0.8101 - val_loss: 0.4691 - val_accuracy: 0.7814\n",
      "Epoch 37/100\n",
      "313/313 [==============================] - 6s 20ms/step - loss: 0.4316 - accuracy: 0.8119 - val_loss: 0.4675 - val_accuracy: 0.7814\n",
      "Epoch 38/100\n",
      "313/313 [==============================] - 6s 20ms/step - loss: 0.4290 - accuracy: 0.8125 - val_loss: 0.4667 - val_accuracy: 0.7830\n",
      "Epoch 39/100\n",
      "313/313 [==============================] - 6s 20ms/step - loss: 0.4268 - accuracy: 0.8134 - val_loss: 0.4654 - val_accuracy: 0.7836\n",
      "Epoch 40/100\n",
      "313/313 [==============================] - 6s 20ms/step - loss: 0.4246 - accuracy: 0.8148 - val_loss: 0.4617 - val_accuracy: 0.7870\n",
      "Epoch 41/100\n",
      "313/313 [==============================] - 6s 20ms/step - loss: 0.4221 - accuracy: 0.8151 - val_loss: 0.4618 - val_accuracy: 0.7872\n",
      "Epoch 42/100\n",
      "313/313 [==============================] - 6s 20ms/step - loss: 0.4200 - accuracy: 0.8163 - val_loss: 0.4631 - val_accuracy: 0.7832\n",
      "Epoch 43/100\n",
      "313/313 [==============================] - 7s 21ms/step - loss: 0.4184 - accuracy: 0.8161 - val_loss: 0.4599 - val_accuracy: 0.7888\n",
      "Epoch 44/100\n",
      "313/313 [==============================] - 7s 21ms/step - loss: 0.4165 - accuracy: 0.8173 - val_loss: 0.4619 - val_accuracy: 0.7862\n",
      "Epoch 45/100\n",
      "313/313 [==============================] - 6s 20ms/step - loss: 0.4150 - accuracy: 0.8180 - val_loss: 0.4624 - val_accuracy: 0.7858\n",
      "Epoch 46/100\n",
      "313/313 [==============================] - 6s 20ms/step - loss: 0.4131 - accuracy: 0.8196 - val_loss: 0.4609 - val_accuracy: 0.7850\n"
     ]
    }
   ],
   "source": [
    "rmsprop = keras.optimizers.RMSprop(learning_rate=1e-4)\n",
    "model.compile(optimizer=rmsprop, loss='binary_crossentropy', metrics=['accuracy'])\n",
    "checkpoint_cb = keras.callbacks.ModelCheckpoint('best-simplernn-modell.h5',\\\n",
    "    save_best_only=True)\n",
    "early_stopping_cb = keras.callbacks.EarlyStopping(patience=3,\\\n",
    "    restore_best_weights=True)\n",
    "history = model.fit(train_oh, train_target, epochs=100, batch_size=64, validation_data=(val_oh, val_target),\\\n",
    "    callbacks=[checkpoint_cb, early_stopping_cb])"
   ]
  },
  {
   "cell_type": "code",
   "execution_count": 30,
   "metadata": {},
   "outputs": [
    {
     "data": {
      "image/png": "[encoded data removed]",
      "text/plain": [
       "<Figure size 432x288 with 1 Axes>"
      ]
     },
     "metadata": {
      "needs_background": "light"
     },
     "output_type": "display_data"
    }
   ],
   "source": [
    "plt.plot(history.history['loss'])\n",
    "plt.plot(history.history['val_loss'])\n",
    "plt.xlabel('epoch')\n",
    "plt.ylabel('loss')\n",
    "plt.legend(['train', 'val'])\n",
    "plt.show()"
   ]
  },
  {
   "cell_type": "code",
   "execution_count": 31,
   "metadata": {},
   "outputs": [
    {
     "name": "stdout",
     "output_type": "stream",
     "text": [
      "8000000 4000000000\n"
     ]
    }
   ],
   "source": [
    "print(train_seq.nbytes, train_oh.nbytes)"
   ]
  },
  {
   "cell_type": "markdown",
   "metadata": {},
   "source": [
    "## 단어 임베딩을 사용하기"
   ]
  },
  {
   "cell_type": "code",
   "execution_count": 32,
   "metadata": {},
   "outputs": [],
   "source": [
    "model2 = keras.Sequential()\n",
    "model2.add(keras.layers.Embedding(500, 16, input_length=100))\n",
    "model2.add(keras.layers.SimpleRNN(8))\n",
    "model2.add(keras.layers.Dense(1, activation='sigmoid'))"
   ]
  },
  {
   "cell_type": "code",
   "execution_count": 33,
   "metadata": {},
   "outputs": [
    {
     "name": "stdout",
     "output_type": "stream",
     "text": [
      "Model: \"sequential_1\"\n",
      "_________________________________________________________________\n",
      " Layer (type)                Output Shape              Param #   \n",
      "=================================================================\n",
      " embedding (Embedding)       (None, 100, 16)           8000      \n",
      "                                                                 \n",
      " simple_rnn_1 (SimpleRNN)    (None, 8)                 200       \n",
      "                                                                 \n",
      " dense_1 (Dense)             (None, 1)                 9         \n",
      "                                                                 \n",
      "=================================================================\n",
      "Total params: 8,209\n",
      "Trainable params: 8,209\n",
      "Non-trainable params: 0\n",
      "_________________________________________________________________\n"
     ]
    }
   ],
   "source": [
    "model2.summary()"
   ]
  },
  {
   "cell_type": "code",
   "execution_count": 36,
   "metadata": {},
   "outputs": [
    {
     "name": "stdout",
     "output_type": "stream",
     "text": [
      "Epoch 1/100\n",
      "313/313 [==============================] - 5s 14ms/step - loss: 0.6950 - accuracy: 0.4954 - val_loss: 0.6927 - val_accuracy: 0.5140\n",
      "Epoch 2/100\n",
      "313/313 [==============================] - 4s 13ms/step - loss: 0.6914 - accuracy: 0.5280 - val_loss: 0.6910 - val_accuracy: 0.5324\n",
      "Epoch 3/100\n",
      "313/313 [==============================] - 4s 13ms/step - loss: 0.6884 - accuracy: 0.5477 - val_loss: 0.6896 - val_accuracy: 0.5394\n",
      "Epoch 4/100\n",
      "313/313 [==============================] - 4s 14ms/step - loss: 0.6852 - accuracy: 0.5616 - val_loss: 0.6886 - val_accuracy: 0.5386\n",
      "Epoch 5/100\n",
      "313/313 [==============================] - 4s 14ms/step - loss: 0.6817 - accuracy: 0.5708 - val_loss: 0.6879 - val_accuracy: 0.5450\n",
      "Epoch 6/100\n",
      "313/313 [==============================] - 5s 16ms/step - loss: 0.6775 - accuracy: 0.5809 - val_loss: 0.6848 - val_accuracy: 0.5464\n",
      "Epoch 7/100\n",
      "313/313 [==============================] - 5s 16ms/step - loss: 0.6638 - accuracy: 0.6345 - val_loss: 0.6634 - val_accuracy: 0.6342\n",
      "Epoch 8/100\n",
      "313/313 [==============================] - 5s 15ms/step - loss: 0.6353 - accuracy: 0.6984 - val_loss: 0.6336 - val_accuracy: 0.6908\n",
      "Epoch 9/100\n",
      "313/313 [==============================] - 5s 14ms/step - loss: 0.6048 - accuracy: 0.7311 - val_loss: 0.6061 - val_accuracy: 0.7174\n",
      "Epoch 10/100\n",
      "313/313 [==============================] - 5s 17ms/step - loss: 0.5770 - accuracy: 0.7516 - val_loss: 0.5805 - val_accuracy: 0.7418\n",
      "Epoch 11/100\n",
      "313/313 [==============================] - 5s 16ms/step - loss: 0.5528 - accuracy: 0.7655 - val_loss: 0.5603 - val_accuracy: 0.7548\n",
      "Epoch 12/100\n",
      "313/313 [==============================] - 5s 16ms/step - loss: 0.5328 - accuracy: 0.7748 - val_loss: 0.5452 - val_accuracy: 0.7558\n",
      "Epoch 13/100\n",
      "313/313 [==============================] - 4s 13ms/step - loss: 0.5151 - accuracy: 0.7875 - val_loss: 0.5286 - val_accuracy: 0.7706\n",
      "Epoch 14/100\n",
      "313/313 [==============================] - 4s 14ms/step - loss: 0.4994 - accuracy: 0.7922 - val_loss: 0.5166 - val_accuracy: 0.7674\n",
      "Epoch 15/100\n",
      "313/313 [==============================] - 4s 13ms/step - loss: 0.4860 - accuracy: 0.7975 - val_loss: 0.5113 - val_accuracy: 0.7684\n",
      "Epoch 16/100\n",
      "313/313 [==============================] - 4s 12ms/step - loss: 0.4746 - accuracy: 0.8029 - val_loss: 0.4991 - val_accuracy: 0.7734\n",
      "Epoch 17/100\n",
      "313/313 [==============================] - 4s 12ms/step - loss: 0.4633 - accuracy: 0.8057 - val_loss: 0.4919 - val_accuracy: 0.7772\n",
      "Epoch 18/100\n",
      "313/313 [==============================] - 4s 12ms/step - loss: 0.4550 - accuracy: 0.8099 - val_loss: 0.4864 - val_accuracy: 0.7796\n",
      "Epoch 19/100\n",
      "313/313 [==============================] - 4s 12ms/step - loss: 0.4476 - accuracy: 0.8129 - val_loss: 0.4854 - val_accuracy: 0.7760\n",
      "Epoch 20/100\n",
      "313/313 [==============================] - 4s 12ms/step - loss: 0.4412 - accuracy: 0.8138 - val_loss: 0.4806 - val_accuracy: 0.7810\n",
      "Epoch 21/100\n",
      "313/313 [==============================] - 4s 12ms/step - loss: 0.4354 - accuracy: 0.8167 - val_loss: 0.4776 - val_accuracy: 0.7788\n",
      "Epoch 22/100\n",
      "313/313 [==============================] - 4s 12ms/step - loss: 0.4301 - accuracy: 0.8206 - val_loss: 0.4732 - val_accuracy: 0.7812\n",
      "Epoch 23/100\n",
      "313/313 [==============================] - 5s 15ms/step - loss: 0.4260 - accuracy: 0.8185 - val_loss: 0.4723 - val_accuracy: 0.7826\n",
      "Epoch 24/100\n",
      "313/313 [==============================] - 5s 14ms/step - loss: 0.4216 - accuracy: 0.8219 - val_loss: 0.4732 - val_accuracy: 0.7824\n",
      "Epoch 25/100\n",
      "313/313 [==============================] - 4s 14ms/step - loss: 0.4190 - accuracy: 0.8240 - val_loss: 0.4705 - val_accuracy: 0.7812\n",
      "Epoch 26/100\n",
      "313/313 [==============================] - 5s 14ms/step - loss: 0.4149 - accuracy: 0.8235 - val_loss: 0.4727 - val_accuracy: 0.7800\n",
      "Epoch 27/100\n",
      "313/313 [==============================] - 4s 13ms/step - loss: 0.4130 - accuracy: 0.8250 - val_loss: 0.4697 - val_accuracy: 0.7802\n",
      "Epoch 28/100\n",
      "313/313 [==============================] - 4s 13ms/step - loss: 0.4104 - accuracy: 0.8246 - val_loss: 0.4678 - val_accuracy: 0.7788\n",
      "Epoch 29/100\n",
      "313/313 [==============================] - 4s 13ms/step - loss: 0.4080 - accuracy: 0.8259 - val_loss: 0.4701 - val_accuracy: 0.7792\n",
      "Epoch 30/100\n",
      "313/313 [==============================] - 4s 13ms/step - loss: 0.4050 - accuracy: 0.8288 - val_loss: 0.4677 - val_accuracy: 0.7788\n",
      "Epoch 31/100\n",
      "313/313 [==============================] - 4s 13ms/step - loss: 0.4030 - accuracy: 0.8306 - val_loss: 0.4702 - val_accuracy: 0.7810\n",
      "Epoch 32/100\n",
      "313/313 [==============================] - 4s 13ms/step - loss: 0.4011 - accuracy: 0.8299 - val_loss: 0.4713 - val_accuracy: 0.7768\n",
      "Epoch 33/100\n",
      "313/313 [==============================] - 4s 13ms/step - loss: 0.3989 - accuracy: 0.8316 - val_loss: 0.4759 - val_accuracy: 0.7756\n"
     ]
    }
   ],
   "source": [
    "rmsprop = keras.optimizers.RMSprop(learning_rate=1e-4)\n",
    "model2.compile(optimizer=rmsprop, loss='binary_crossentropy', metrics=['accuracy'])\n",
    "checkpoint_cb = keras.callbacks.ModelCheckpoint('best-embedding-model.h5',\\\n",
    "    save_best_only=True)\n",
    "early_stopping_cb = keras.callbacks.EarlyStopping(patience=3, restore_best_weights=True)\n",
    "history = model2.fit(train_seq, train_target, epochs=100, batch_size=64,\\\n",
    "    validation_data=(val_seq, val_target),\n",
    "    callbacks=[checkpoint_cb, early_stopping_cb])"
   ]
  },
  {
   "cell_type": "code",
   "execution_count": 38,
   "metadata": {},
   "outputs": [
    {
     "data": {
      "image/png": "[encoded data removed]",
      "text/plain": [
       "<Figure size 432x288 with 1 Axes>"
      ]
     },
     "metadata": {
      "needs_background": "light"
     },
     "output_type": "display_data"
    }
   ],
   "source": [
    "plt.plot(history.history['loss'])\n",
    "plt.plot(history.history['val_loss'])\n",
    "plt.xlabel('epoch')\n",
    "plt.ylabel('loss')\n",
    "plt.legend(['train', 'val'])\n",
    "plt.show()"
   ]
  },
  {
   "cell_type": "code",
   "execution_count": null,
   "metadata": {},
   "outputs": [],
   "source": []
  }
 ],
 "metadata": {
  "interpreter": {
   "hash": "5f2dc2c05f9d09bbf8d8b9882d1010be2db21d3925608a6143bf35df14041d06"
  },
  "kernelspec": {
   "display_name": "Python 3.9.12 ('base')",
   "language": "python",
   "name": "python3"
  },
  "language_info": {
   "codemirror_mode": {
    "name": "ipython",
    "version": 3
   },
   "file_extension": ".py",
   "mimetype": "text/x-python",
   "name": "python",
   "nbconvert_exporter": "python",
   "pygments_lexer": "ipython3",
   "version": "3.9.12"
  },
  "orig_nbformat": 4
 },
 "nbformat": 4,
 "nbformat_minor": 2
}
